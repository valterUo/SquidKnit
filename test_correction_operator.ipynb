{
 "cells": [
  {
   "cell_type": "code",
   "execution_count": 20,
   "metadata": {},
   "outputs": [
    {
     "name": "stdout",
     "output_type": "stream",
     "text": [
      "[[ 1  0  0  0]\n",
      " [ 0  1  0  0]\n",
      " [ 0  0  1  0]\n",
      " [ 0  0  0 -1]]\n",
      "[[ 1  0  0  0]\n",
      " [ 0  1  0  0]\n",
      " [ 0  0  1  0]\n",
      " [ 0  0  0 -1]]\n",
      "[('PauliX', 'PauliZ'), ('PauliZ', 'Identity'), ('PauliZ', 'PauliX'), ('Identity', 'PauliZ')]\n"
     ]
    }
   ],
   "source": [
    "import pennylane as qml\n",
    "import numpy as np\n",
    "\n",
    "#U = np.array([[1, 0,0,0], [0,1,0,0], [0,0,1,0],[0,0,0, 1j]])\n",
    "#gate =  qml.QubitUnitary(U, wires=[0,1])\n",
    "\n",
    "gate = qml.CZ\n",
    "\n",
    "U_matrix = np.array(gate.compute_matrix())\n",
    "print(U_matrix)\n",
    "U_adjoint = np.array(qml.adjoint(gate).compute_matrix())\n",
    "print(U_adjoint)\n",
    "\n",
    "Z = np.array(qml.PauliZ.compute_matrix())\n",
    "X = np.array(qml.PauliX.compute_matrix())\n",
    "I = np.identity(2)\n",
    "basis = [np.kron(X, I), np.kron(Z, I), np.kron(I, X), np.kron(I, Z)]\n",
    "correction_operator = []\n",
    "\n",
    "for base in basis:\n",
    "    result = np.matmul(U_matrix, base)\n",
    "    result = np.matmul(result, U_adjoint)\n",
    "    result = qml.pauli.pauli_decompose(result)\n",
    "    \n",
    "    # Access the Pauli decomposition\n",
    "    # print(result)\n",
    "    \n",
    "    for r in result.ops:\n",
    "        r1, r2 = r.obs[0].name, r.obs[1].name\n",
    "        correction_operator.append((r1, r2))\n",
    "\n",
    "print(correction_operator)\n",
    "    \n",
    "\n"
   ]
  }
 ],
 "metadata": {
  "kernelspec": {
   "display_name": "Python 3",
   "language": "python",
   "name": "python3"
  },
  "language_info": {
   "codemirror_mode": {
    "name": "ipython",
    "version": 3
   },
   "file_extension": ".py",
   "mimetype": "text/x-python",
   "name": "python",
   "nbconvert_exporter": "python",
   "pygments_lexer": "ipython3",
   "version": "3.10.12"
  }
 },
 "nbformat": 4,
 "nbformat_minor": 2
}
